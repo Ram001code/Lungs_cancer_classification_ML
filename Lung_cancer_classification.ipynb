{
 "cells": [
  {
   "cell_type": "code",
   "execution_count": 22,
   "id": "43c22582",
   "metadata": {},
   "outputs": [],
   "source": [
    "import pandas as pd\n",
    "from pathlib import Path\n",
    "import matplotlib.pyplot as plt\n",
    "import numpy as np\n",
    "\n",
    "from sklearn import svm, metrics, datasets\n",
    "from sklearn.utils import Bunch\n",
    "from sklearn.model_selection import GridSearchCV, train_test_split\n",
    "import skimage\n",
    "from skimage.io import imread\n",
    "from skimage.transform import resize\n"
   ]
  },
  {
   "cell_type": "code",
   "execution_count": 23,
   "id": "b34a045d",
   "metadata": {},
   "outputs": [],
   "source": [
    "data_dir= 'D:\\Albot\\Medical Imaging-Cancer\\code\\datasets'"
   ]
  },
  {
   "cell_type": "code",
   "execution_count": 24,
   "id": "52627ca2",
   "metadata": {},
   "outputs": [
    {
     "data": {
      "text/plain": [
       "['Bengin cases', 'Malignant cases', 'Normal cases']"
      ]
     },
     "execution_count": 24,
     "metadata": {},
     "output_type": "execute_result"
    }
   ],
   "source": [
    "import os\n",
    "os.listdir(data_dir) "
   ]
  },
  {
   "cell_type": "code",
   "execution_count": 25,
   "id": "073ff787",
   "metadata": {},
   "outputs": [
    {
     "name": "stdout",
     "output_type": "stream",
     "text": [
      "No. of images in Bengin cases: 120\n",
      "No. of images in Malignant cases: 561\n",
      "No. of images in Normal cases: 416\n"
     ]
    }
   ],
   "source": [
    "print(\"No. of images in Bengin cases:\", len(os.listdir(data_dir+'\\\\Bengin cases')))\n",
    "print(\"No. of images in Malignant cases:\", len(os.listdir(data_dir+'\\\\Malignant cases')))\n",
    "print(\"No. of images in Normal cases:\", len(os.listdir(data_dir+'\\\\Normal cases')))"
   ]
  },
  {
   "cell_type": "code",
   "execution_count": 26,
   "id": "70111ad8",
   "metadata": {},
   "outputs": [],
   "source": [
    "##Loading images in structured directory\n",
    "\n",
    "def load_image_files(container_path, dimesion=(64,64)):\n",
    "\n",
    "    image_dir= Path(container_path)\n",
    "    print(\"Name of folders:\", image_dir)\n",
    "\n",
    "    folders= [directory for directory in image_dir.iterdir() if directory.is_dir()]\n",
    "    print(\"Name of folders:\", folders)\n",
    "\n",
    "    categories = [i.name for i in folders]\n",
    "    print(\"Name of categories:\", categories)\n",
    "\n",
    "    descr = \"Image classification\"\n",
    "    images= []\n",
    "    flat_data= []\n",
    "    target= []\n",
    "\n",
    "    for i, direc in enumerate(folders):\n",
    "        for file in direc.iterdir():\n",
    "            img= skimage.io.imread(file)\n",
    "            #print(img)\n",
    "            img_resized= resize(img, dimesion, mode='reflect')\n",
    "            #print(img_resized)\n",
    "            flat_data.append(img_resized.flatten())\n",
    "            images.append(img_resized)\n",
    "            target.append(i)\n",
    "\n",
    "    flat_data= np.array(flat_data)\n",
    "    #print(\"flat_data:\", flat_data)\n",
    "\n",
    "    target= np.array(target)\n",
    "    print(\"Target:\", target)\n",
    "\n",
    "    images = np.array(images)\n",
    "    #print(\"images:\", images)\n",
    "\n",
    "    return Bunch(data= flat_data, target= target, target_names= categories, images= images, DESCR= descr)\n"
   ]
  },
  {
   "cell_type": "code",
   "execution_count": 27,
   "id": "d3aeb946",
   "metadata": {},
   "outputs": [
    {
     "name": "stdout",
     "output_type": "stream",
     "text": [
      "Name of folders: datasets\n",
      "Name of folders: [WindowsPath('datasets/Bengin cases'), WindowsPath('datasets/Malignant cases'), WindowsPath('datasets/Normal cases')]\n",
      "Name of categories: ['Bengin cases', 'Malignant cases', 'Normal cases']\n",
      "Target: [0 0 0 ... 2 2 2]\n"
     ]
    }
   ],
   "source": [
    "#data= r'D:\\Albot\\Medical Imaging-Cancer\\code\\datasets'\n",
    "image_dataset= load_image_files('datasets/')\n",
    "\n",
    "\n",
    "#print(\"lenth of data:\", len(image_dataset))"
   ]
  },
  {
   "cell_type": "code",
   "execution_count": 28,
   "id": "914b8b3d",
   "metadata": {},
   "outputs": [],
   "source": [
    "###"
   ]
  },
  {
   "cell_type": "code",
   "execution_count": 29,
   "id": "538003ae",
   "metadata": {},
   "outputs": [],
   "source": [
    "####Spliting into test and train\n",
    "\n",
    "X_train, X_test, y_train, y_test = train_test_split(\n",
    "    image_dataset.data, image_dataset.target, test_size=0.2,random_state=109)"
   ]
  },
  {
   "cell_type": "code",
   "execution_count": 30,
   "id": "6dd73157",
   "metadata": {},
   "outputs": [
    {
     "name": "stdout",
     "output_type": "stream",
     "text": [
      "y_train:  877\n",
      "y_test: 220\n",
      "X_train:  877\n",
      "X_test: 220\n"
     ]
    }
   ],
   "source": [
    "# look at the distrubution of labels in the train set\n",
    "print(\"y_train: \", len(y_train), )\n",
    "print(\"y_test:\", len(y_test))\n",
    "print(\"X_train: \", len(X_train))\n",
    "print(\"X_test:\", len(X_test))\n",
    "\n",
    "\n",
    "# look at the distrubution of labels in the test set\n",
    "#print(X_train.value_counts())"
   ]
  },
  {
   "cell_type": "code",
   "execution_count": 32,
   "id": "e461070a",
   "metadata": {},
   "outputs": [
    {
     "data": {
      "text/plain": [
       "(877, 877)"
      ]
     },
     "execution_count": 32,
     "metadata": {},
     "output_type": "execute_result"
    }
   ],
   "source": [
    "len(y_train),len(X_train) "
   ]
  },
  {
   "cell_type": "markdown",
   "id": "b262b794",
   "metadata": {},
   "source": [
    "### SVM Method"
   ]
  },
  {
   "cell_type": "code",
   "execution_count": 33,
   "id": "7351f57c",
   "metadata": {},
   "outputs": [
    {
     "data": {
      "text/plain": [
       "GridSearchCV(cv=None, error_score=nan,\n",
       "             estimator=SVC(C=1.0, break_ties=False, cache_size=200,\n",
       "                           class_weight=None, coef0=0.0,\n",
       "                           decision_function_shape='ovr', degree=3,\n",
       "                           gamma='scale', kernel='rbf', max_iter=-1,\n",
       "                           probability=True, random_state=None, shrinking=True,\n",
       "                           tol=0.001, verbose=False),\n",
       "             iid='deprecated', n_jobs=None,\n",
       "             param_grid=[{'C': [1, 10, 100, 1000], 'kernel': ['linear']},\n",
       "                         {'C': [1, 10, 100, 1000], 'gamma': [0.001, 0.0001],\n",
       "                          'kernel': ['rbf']}],\n",
       "             pre_dispatch='2*n_jobs', refit=True, return_train_score=False,\n",
       "             scoring=None, verbose=0)"
      ]
     },
     "execution_count": 33,
     "metadata": {},
     "output_type": "execute_result"
    }
   ],
   "source": [
    "## Training data with SVM parameter optimization\n",
    "\n",
    "param_grid = [\n",
    "  {'C': [1, 10, 100, 1000], 'kernel': ['linear']},\n",
    "  {'C': [1, 10, 100, 1000], 'gamma': [0.001, 0.0001], 'kernel': ['rbf']},\n",
    " ]\n",
    "svc = svm.SVC(probability= True)\n",
    "clf = GridSearchCV(svc, param_grid)\n",
    "clf.fit(X_train, y_train)"
   ]
  },
  {
   "cell_type": "code",
   "execution_count": 34,
   "id": "cd358fd8",
   "metadata": {},
   "outputs": [
    {
     "name": "stdout",
     "output_type": "stream",
     "text": [
      "Prediction:  [1 2 1 0 2 2 2 1 2 1 1 1 0 1 0 2 1 2 1 1 2 1 1 1 1 1 1 1 1 1 2 2 1 2 1 2 1\n",
      " 1 2 1 2 2 1 2 0 1 1 0 2 2 2 0 1 2 2 1 1 1 1 1 1 1 2 1 2 2 2 1 1 2 1 2 1 1\n",
      " 1 1 2 1 1 0 2 2 0 2 1 1 1 2 2 2 1 0 0 2 1 1 2 1 2 1 1 1 1 1 1 2 1 1 1 2 1\n",
      " 2 1 2 1 2 2 1 2 2 2 2 2 1 0 1 1 1 2 1 1 2 0 2 1 1 1 1 1 1 2 2 2 0 2 0 1 1\n",
      " 2 2 2 1 1 2 0 1 1 1 1 1 1 2 1 1 0 2 1 2 2 2 1 1 1 1 0 1 1 1 2 2 0 1 2 1 2\n",
      " 1 2 2 1 2 1 2 0 1 2 1 1 2 2 2 0 1 1 2 1 1 1 1 2 0 1 1 1 1 1 1 0 2 1 2]\n"
     ]
    }
   ],
   "source": [
    "y_pred = clf.predict(X_test)\n",
    "\n",
    "print(\"Prediction: \", y_pred)"
   ]
  },
  {
   "cell_type": "code",
   "execution_count": 35,
   "id": "5e387c97",
   "metadata": {},
   "outputs": [],
   "source": [
    "result = pd.DataFrame({'Original' : y_test,'Predicted' : y_pred})"
   ]
  },
  {
   "cell_type": "code",
   "execution_count": 36,
   "id": "afbae2c7",
   "metadata": {},
   "outputs": [
    {
     "data": {
      "text/html": [
       "<div>\n",
       "<style scoped>\n",
       "    .dataframe tbody tr th:only-of-type {\n",
       "        vertical-align: middle;\n",
       "    }\n",
       "\n",
       "    .dataframe tbody tr th {\n",
       "        vertical-align: top;\n",
       "    }\n",
       "\n",
       "    .dataframe thead th {\n",
       "        text-align: right;\n",
       "    }\n",
       "</style>\n",
       "<table border=\"1\" class=\"dataframe\">\n",
       "  <thead>\n",
       "    <tr style=\"text-align: right;\">\n",
       "      <th></th>\n",
       "      <th>Original</th>\n",
       "      <th>Predicted</th>\n",
       "    </tr>\n",
       "  </thead>\n",
       "  <tbody>\n",
       "    <tr>\n",
       "      <th>0</th>\n",
       "      <td>1</td>\n",
       "      <td>1</td>\n",
       "    </tr>\n",
       "    <tr>\n",
       "      <th>1</th>\n",
       "      <td>2</td>\n",
       "      <td>2</td>\n",
       "    </tr>\n",
       "    <tr>\n",
       "      <th>2</th>\n",
       "      <td>1</td>\n",
       "      <td>1</td>\n",
       "    </tr>\n",
       "    <tr>\n",
       "      <th>3</th>\n",
       "      <td>0</td>\n",
       "      <td>0</td>\n",
       "    </tr>\n",
       "    <tr>\n",
       "      <th>4</th>\n",
       "      <td>2</td>\n",
       "      <td>2</td>\n",
       "    </tr>\n",
       "    <tr>\n",
       "      <th>...</th>\n",
       "      <td>...</td>\n",
       "      <td>...</td>\n",
       "    </tr>\n",
       "    <tr>\n",
       "      <th>215</th>\n",
       "      <td>1</td>\n",
       "      <td>1</td>\n",
       "    </tr>\n",
       "    <tr>\n",
       "      <th>216</th>\n",
       "      <td>0</td>\n",
       "      <td>0</td>\n",
       "    </tr>\n",
       "    <tr>\n",
       "      <th>217</th>\n",
       "      <td>2</td>\n",
       "      <td>2</td>\n",
       "    </tr>\n",
       "    <tr>\n",
       "      <th>218</th>\n",
       "      <td>1</td>\n",
       "      <td>1</td>\n",
       "    </tr>\n",
       "    <tr>\n",
       "      <th>219</th>\n",
       "      <td>2</td>\n",
       "      <td>2</td>\n",
       "    </tr>\n",
       "  </tbody>\n",
       "</table>\n",
       "<p>220 rows × 2 columns</p>\n",
       "</div>"
      ],
      "text/plain": [
       "     Original  Predicted\n",
       "0           1          1\n",
       "1           2          2\n",
       "2           1          1\n",
       "3           0          0\n",
       "4           2          2\n",
       "..        ...        ...\n",
       "215         1          1\n",
       "216         0          0\n",
       "217         2          2\n",
       "218         1          1\n",
       "219         2          2\n",
       "\n",
       "[220 rows x 2 columns]"
      ]
     },
     "execution_count": 36,
     "metadata": {},
     "output_type": "execute_result"
    }
   ],
   "source": [
    "result"
   ]
  },
  {
   "cell_type": "code",
   "execution_count": 38,
   "id": "ee72a704",
   "metadata": {},
   "outputs": [
    {
     "name": "stdout",
     "output_type": "stream",
     "text": [
      "Model accuracy is:  0.9954545454545455\n"
     ]
    }
   ],
   "source": [
    "# calculate accuracy\n",
    "from sklearn.metrics import accuracy_score\n",
    "\n",
    "accuracy = accuracy_score(y_test, y_pred)\n",
    "print('Model accuracy is: ', accuracy)"
   ]
  },
  {
   "cell_type": "markdown",
   "id": "d3154d61",
   "metadata": {},
   "source": [
    "### Save the classifier"
   ]
  },
  {
   "cell_type": "code",
   "execution_count": 39,
   "id": "fd213ae0",
   "metadata": {},
   "outputs": [],
   "source": [
    "# save the model to disk\n",
    "import pickle\n",
    "\n",
    "filename = 'model_Without_Augm_SVM.h5'\n",
    "pickle.dump(clf, open(filename, 'wb'))"
   ]
  },
  {
   "cell_type": "code",
   "execution_count": 40,
   "id": "72d32b96",
   "metadata": {},
   "outputs": [],
   "source": [
    "import pickle\n",
    "filename = 'model_Without_Augm_SVM.h5'\n",
    "# load the model from disk\n",
    "loaded_model = pickle.load(open(filename, 'rb'))"
   ]
  },
  {
   "cell_type": "code",
   "execution_count": 41,
   "id": "299bb610",
   "metadata": {},
   "outputs": [
    {
     "data": {
      "text/plain": [
       "array([1, 2, 1, 0, 2, 2, 2, 1, 2, 1, 1, 1, 0, 1, 0, 2, 1, 2, 1, 1, 2, 1,\n",
       "       1, 1, 1, 1, 1, 1, 1, 1, 2, 2, 1, 2, 1, 2, 1, 1, 2, 1, 2, 2, 1, 2,\n",
       "       0, 1, 1, 0, 2, 2, 2, 0, 1, 2, 2, 1, 1, 1, 1, 1, 1, 1, 2, 1, 2, 2,\n",
       "       2, 1, 1, 2, 1, 2, 1, 1, 1, 1, 2, 1, 1, 0, 2, 2, 0, 2, 1, 1, 1, 2,\n",
       "       2, 2, 1, 0, 0, 2, 1, 1, 2, 1, 2, 1, 1, 1, 1, 1, 1, 2, 1, 1, 1, 2,\n",
       "       1, 2, 1, 2, 1, 2, 2, 1, 2, 2, 2, 2, 2, 1, 0, 1, 1, 1, 2, 1, 1, 2,\n",
       "       0, 2, 1, 1, 1, 1, 1, 1, 2, 2, 2, 0, 2, 0, 1, 1, 2, 2, 2, 1, 1, 2,\n",
       "       0, 1, 1, 1, 1, 1, 1, 2, 1, 1, 0, 2, 1, 2, 2, 2, 1, 1, 1, 1, 0, 1,\n",
       "       1, 1, 2, 2, 0, 1, 2, 1, 2, 1, 2, 2, 1, 2, 1, 2, 0, 1, 2, 1, 1, 2,\n",
       "       2, 2, 0, 1, 1, 2, 1, 1, 1, 1, 2, 0, 1, 1, 1, 1, 1, 1, 0, 2, 1, 2])"
      ]
     },
     "execution_count": 41,
     "metadata": {},
     "output_type": "execute_result"
    }
   ],
   "source": [
    "loaded_model.predict(X_test)"
   ]
  },
  {
   "cell_type": "code",
   "execution_count": 42,
   "id": "1181c4a2",
   "metadata": {},
   "outputs": [
    {
     "name": "stdout",
     "output_type": "stream",
     "text": [
      "Score 0.9954545454545455\n"
     ]
    }
   ],
   "source": [
    "# Calculate the Score \n",
    "score = loaded_model.score(X_test, y_test) \n",
    "print(\"Score\", score)"
   ]
  },
  {
   "cell_type": "code",
   "execution_count": 21,
   "id": "e3c6e2f9",
   "metadata": {},
   "outputs": [],
   "source": [
    "import skimage\n",
    "from skimage.io import imread\n",
    "from skimage.transform import resize\n",
    "import pandas as pd\n",
    "from pathlib import Path\n",
    "import matplotlib.pyplot as plt\n",
    "import numpy as np"
   ]
  },
  {
   "cell_type": "code",
   "execution_count": 22,
   "id": "2665ab37",
   "metadata": {},
   "outputs": [],
   "source": [
    "#!pip install scikit-learn==0.22.1"
   ]
  },
  {
   "cell_type": "code",
   "execution_count": 26,
   "id": "cb32d5ea",
   "metadata": {},
   "outputs": [],
   "source": [
    "import pickle\n",
    "filename = 'model_Without_Augm_SVM.h5'\n",
    "# load the model from disk\n",
    "loaded_model = pickle.load(open(filename, 'rb'))"
   ]
  },
  {
   "cell_type": "markdown",
   "id": "44ed0c1d",
   "metadata": {},
   "source": [
    "# Model Evaluation"
   ]
  },
  {
   "cell_type": "code",
   "execution_count": 27,
   "id": "c391eecc",
   "metadata": {},
   "outputs": [],
   "source": [
    "input_image= 'D:\\Albot\\Medical Imaging-Cancer\\code\\datasets\\Malignant cases\\Malignant case (1).jpg'\n",
    "#input_image= 'D:\\Albot\\Medical Imaging-Cancer\\code\\datasets\\Bengin cases\\Bengin case (1).jpg'\n",
    "#input_image= r'D:\\Albot\\Medical Imaging-Cancer\\code\\datasets\\Normal cases\\Normal case (2).jpg'"
   ]
  },
  {
   "cell_type": "code",
   "execution_count": 28,
   "id": "2fee3af4",
   "metadata": {},
   "outputs": [],
   "source": [
    "img= imread(input_image)"
   ]
  },
  {
   "cell_type": "code",
   "execution_count": 29,
   "id": "f373c6e8",
   "metadata": {},
   "outputs": [
    {
     "data": {
      "text/plain": [
       "(512, 512, 3)"
      ]
     },
     "execution_count": 29,
     "metadata": {},
     "output_type": "execute_result"
    }
   ],
   "source": [
    "img.shape"
   ]
  },
  {
   "cell_type": "code",
   "execution_count": 30,
   "id": "d7904cbf",
   "metadata": {},
   "outputs": [
    {
     "data": {
      "image/png": "[encoded data removed]",
      "text/plain": [
       "<Figure size 432x288 with 1 Axes>"
      ]
     },
     "metadata": {
      "needs_background": "light"
     },
     "output_type": "display_data"
    }
   ],
   "source": [
    "plt.imshow(img)\n",
    "plt.show()"
   ]
  },
  {
   "cell_type": "code",
   "execution_count": 31,
   "id": "6537c32a",
   "metadata": {},
   "outputs": [],
   "source": [
    "img_resize=resize(img,(64,64,3))"
   ]
  },
  {
   "cell_type": "code",
   "execution_count": 32,
   "id": "fab5766f",
   "metadata": {},
   "outputs": [],
   "source": [
    "f =[img_resize.flatten()]"
   ]
  },
  {
   "cell_type": "code",
   "execution_count": 1,
   "id": "3226aa92",
   "metadata": {},
   "outputs": [],
   "source": [
    "#loaded_model.predict(f)[0]  #loaded_model.predict(f)[0]"
   ]
  },
  {
   "cell_type": "code",
   "execution_count": 2,
   "id": "b9dbbec0",
   "metadata": {},
   "outputs": [],
   "source": [
    "#Test_Prediction = loaded_model.predict(f)[0]                    #clf.predict(f)[0]"
   ]
  },
  {
   "cell_type": "code",
   "execution_count": 71,
   "id": "e2b19662",
   "metadata": {},
   "outputs": [
    {
     "name": "stdout",
     "output_type": "stream",
     "text": [
      "Malignant Lung Cancer\n"
     ]
    }
   ],
   "source": [
    "if Test_Prediction ==0:\n",
    "    print(\"Bengin Lung Cancer\")\n",
    "elif Test_Prediction ==1:\n",
    "    print(\"Malignant Lung Cancer\")\n",
    "else:\n",
    "    print(\"Normal Lung\")"
   ]
  },
  {
   "cell_type": "markdown",
   "id": "d7c973e8",
   "metadata": {},
   "source": [
    "### Decesion Tree Method "
   ]
  },
  {
   "cell_type": "code",
   "execution_count": null,
   "id": "9f63c32b",
   "metadata": {},
   "outputs": [],
   "source": []
  },
  {
   "cell_type": "code",
   "execution_count": 71,
   "id": "6157874e",
   "metadata": {},
   "outputs": [],
   "source": [
    "from sklearn.tree import DecisionTreeClassifier "
   ]
  },
  {
   "cell_type": "code",
   "execution_count": 72,
   "id": "f688dc34",
   "metadata": {},
   "outputs": [],
   "source": [
    "# Create Decision Tree classifer object\n",
    "clf1 = DecisionTreeClassifier(criterion='gini')\n",
    "\n",
    "# Train Decision Tree Classifer\n",
    "clf1 = clf1.fit(X_train,y_train)\n",
    "\n"
   ]
  },
  {
   "cell_type": "code",
   "execution_count": 73,
   "id": "216ae6a8",
   "metadata": {},
   "outputs": [
    {
     "data": {
      "text/plain": [
       "DecisionTreeClassifier()"
      ]
     },
     "execution_count": 73,
     "metadata": {},
     "output_type": "execute_result"
    }
   ],
   "source": [
    "clf1"
   ]
  },
  {
   "cell_type": "code",
   "execution_count": 76,
   "id": "8dff58b3",
   "metadata": {},
   "outputs": [],
   "source": [
    "n_nodes = clf1.tree_.node_count"
   ]
  },
  {
   "cell_type": "code",
   "execution_count": 77,
   "id": "51ec3e14",
   "metadata": {},
   "outputs": [
    {
     "name": "stdout",
     "output_type": "stream",
     "text": [
      "77\n"
     ]
    }
   ],
   "source": [
    "print(n_nodes)"
   ]
  },
  {
   "cell_type": "code",
   "execution_count": 78,
   "id": "ed2c1b80",
   "metadata": {},
   "outputs": [
    {
     "name": "stdout",
     "output_type": "stream",
     "text": [
      "10\n"
     ]
    }
   ],
   "source": [
    "print(clf1.tree_.max_depth)"
   ]
  },
  {
   "cell_type": "code",
   "execution_count": 79,
   "id": "945e4e99",
   "metadata": {},
   "outputs": [],
   "source": [
    "#Predict the response for test dataset\n",
    "y_pred1 = clf1.predict(X_test)"
   ]
  },
  {
   "cell_type": "code",
   "execution_count": 80,
   "id": "a64f8769",
   "metadata": {},
   "outputs": [
    {
     "data": {
      "text/plain": [
       "array([1, 2, 1, 2, 2, 2, 2, 1, 2, 1, 1, 1, 0, 1, 0, 2, 1, 2, 1, 1, 2, 0,\n",
       "       1, 1, 1, 1, 1, 1, 1, 1, 2, 2, 1, 2, 1, 2, 1, 1, 2, 1, 2, 2, 1, 2,\n",
       "       0, 1, 1, 0, 2, 2, 2, 2, 1, 2, 2, 1, 1, 1, 1, 1, 1, 1, 0, 1, 2, 2,\n",
       "       2, 1, 1, 2, 1, 2, 2, 1, 1, 1, 2, 1, 1, 0, 2, 2, 0, 2, 1, 1, 1, 2,\n",
       "       1, 2, 1, 0, 0, 2, 2, 1, 2, 1, 1, 1, 2, 1, 1, 1, 1, 2, 1, 1, 1, 2,\n",
       "       1, 2, 1, 2, 1, 2, 2, 1, 2, 2, 2, 2, 2, 1, 0, 1, 1, 1, 0, 1, 2, 2,\n",
       "       0, 2, 1, 1, 1, 1, 1, 1, 2, 2, 2, 0, 2, 0, 1, 1, 1, 2, 1, 1, 1, 2,\n",
       "       0, 1, 1, 2, 1, 1, 1, 2, 1, 1, 2, 2, 1, 2, 2, 2, 1, 1, 1, 1, 1, 1,\n",
       "       1, 1, 2, 2, 0, 1, 2, 1, 2, 1, 2, 1, 1, 2, 1, 0, 0, 1, 2, 1, 1, 2,\n",
       "       2, 2, 0, 1, 1, 2, 1, 1, 1, 1, 2, 1, 1, 1, 1, 1, 0, 1, 0, 2, 1, 1])"
      ]
     },
     "execution_count": 80,
     "metadata": {},
     "output_type": "execute_result"
    }
   ],
   "source": [
    " y_pred1"
   ]
  },
  {
   "cell_type": "code",
   "execution_count": 81,
   "id": "272bb37c",
   "metadata": {},
   "outputs": [
    {
     "name": "stdout",
     "output_type": "stream",
     "text": [
      "Accuracy: 0.9045454545454545\n"
     ]
    }
   ],
   "source": [
    "# Model Accuracy, classifier correct\n",
    "print(\"Accuracy:\",metrics.accuracy_score(y_test, y_pred1))"
   ]
  },
  {
   "cell_type": "code",
   "execution_count": 82,
   "id": "1d1c1ec0",
   "metadata": {},
   "outputs": [],
   "source": [
    "# Create Decision Tree classifer object\n",
    "clf3 = DecisionTreeClassifier(criterion='entropy')\n",
    "\n",
    "# Train Decision Tree Classifer\n",
    "clf3 = clf3.fit(X_train,y_train)"
   ]
  },
  {
   "cell_type": "code",
   "execution_count": 83,
   "id": "aa03ee11",
   "metadata": {},
   "outputs": [],
   "source": [
    "y_pred3 = clf3.predict(X_test)"
   ]
  },
  {
   "cell_type": "code",
   "execution_count": 84,
   "id": "7184d7d5",
   "metadata": {},
   "outputs": [
    {
     "name": "stdout",
     "output_type": "stream",
     "text": [
      "Accuracy: 0.9363636363636364\n"
     ]
    }
   ],
   "source": [
    "# Model Accuracy, classifier correct\n",
    "print(\"Accuracy:\",metrics.accuracy_score(y_test, y_pred3))"
   ]
  },
  {
   "cell_type": "code",
   "execution_count": null,
   "id": "af1962a5",
   "metadata": {},
   "outputs": [],
   "source": []
  },
  {
   "cell_type": "markdown",
   "id": "f84abff1",
   "metadata": {},
   "source": [
    "### Random Forest classification "
   ]
  },
  {
   "cell_type": "code",
   "execution_count": 85,
   "id": "d91557ae",
   "metadata": {},
   "outputs": [],
   "source": [
    "#Import Random Forest Model\n",
    "from sklearn.ensemble import RandomForestClassifier"
   ]
  },
  {
   "cell_type": "code",
   "execution_count": 86,
   "id": "91b23754",
   "metadata": {},
   "outputs": [],
   "source": [
    "#Create a Gaussian Classifier\n",
    "clf2=RandomForestClassifier(n_estimators=100)"
   ]
  },
  {
   "cell_type": "code",
   "execution_count": 87,
   "id": "9c829721",
   "metadata": {},
   "outputs": [
    {
     "data": {
      "text/plain": [
       "RandomForestClassifier()"
      ]
     },
     "execution_count": 87,
     "metadata": {},
     "output_type": "execute_result"
    }
   ],
   "source": [
    "#Train the model \n",
    "clf2.fit(X_train,y_train)"
   ]
  },
  {
   "cell_type": "code",
   "execution_count": 88,
   "id": "d30d14e5",
   "metadata": {},
   "outputs": [],
   "source": [
    "#Predict the response for test dataset\n",
    "y_pred2 =clf2.predict(X_test)"
   ]
  },
  {
   "cell_type": "code",
   "execution_count": 90,
   "id": "ead460ec",
   "metadata": {},
   "outputs": [
    {
     "data": {
      "text/plain": [
       "array([1, 2, 1, 0, 2, 2, 2, 1, 2, 1, 1, 1, 0, 1, 0, 2, 1, 2, 1, 1, 2, 1,\n",
       "       1, 1, 1, 1, 1, 1, 1, 1, 2, 2, 1, 2, 1, 2, 1, 1, 2, 1, 2, 2, 1, 2,\n",
       "       2, 1, 1, 0, 2, 2, 2, 0, 1, 2, 2, 1, 1, 1, 1, 1, 1, 1, 2, 1, 2, 2,\n",
       "       2, 1, 1, 2, 1, 2, 1, 1, 1, 1, 2, 1, 1, 0, 2, 2, 0, 2, 1, 1, 1, 2,\n",
       "       2, 2, 1, 0, 0, 2, 1, 1, 2, 1, 2, 1, 1, 1, 1, 1, 1, 2, 1, 1, 1, 2,\n",
       "       1, 2, 1, 2, 1, 2, 2, 1, 2, 2, 2, 2, 2, 1, 0, 1, 1, 1, 2, 1, 1, 2,\n",
       "       0, 2, 1, 1, 1, 1, 1, 1, 2, 2, 2, 0, 2, 0, 1, 1, 2, 2, 2, 1, 1, 1,\n",
       "       0, 1, 1, 1, 1, 1, 1, 2, 1, 1, 0, 2, 1, 2, 2, 2, 1, 1, 1, 1, 0, 1,\n",
       "       1, 1, 2, 2, 0, 1, 2, 1, 2, 1, 2, 2, 1, 2, 1, 2, 0, 1, 2, 1, 1, 2,\n",
       "       2, 2, 0, 1, 1, 2, 1, 1, 1, 1, 2, 0, 1, 1, 1, 1, 1, 1, 0, 2, 1, 2])"
      ]
     },
     "execution_count": 90,
     "metadata": {},
     "output_type": "execute_result"
    }
   ],
   "source": [
    "y_pred2"
   ]
  },
  {
   "cell_type": "code",
   "execution_count": 91,
   "id": "adf4b220",
   "metadata": {},
   "outputs": [
    {
     "name": "stdout",
     "output_type": "stream",
     "text": [
      "Accuracy: 0.9863636363636363\n"
     ]
    }
   ],
   "source": [
    "from sklearn import metrics\n",
    "\n",
    "# Model Accuracy\n",
    "print(\"Accuracy:\",metrics.accuracy_score(y_test, y_pred2))"
   ]
  },
  {
   "cell_type": "markdown",
   "id": "a32d573f",
   "metadata": {},
   "source": [
    "### KNN classification"
   ]
  },
  {
   "cell_type": "code",
   "execution_count": 92,
   "id": "115199f6",
   "metadata": {},
   "outputs": [],
   "source": [
    "# Feature Scaling\n",
    "from sklearn.preprocessing import StandardScaler\n",
    "sc = StandardScaler()\n",
    "X_train = sc.fit_transform(X_train)\n",
    "X_test = sc.transform(X_test)"
   ]
  },
  {
   "cell_type": "code",
   "execution_count": 93,
   "id": "fff4054d",
   "metadata": {},
   "outputs": [
    {
     "data": {
      "text/plain": [
       "KNeighborsClassifier(n_neighbors=3)"
      ]
     },
     "execution_count": 93,
     "metadata": {},
     "output_type": "execute_result"
    }
   ],
   "source": [
    "# Training the K-NN model on the Training set\n",
    "from sklearn.neighbors import KNeighborsClassifier\n",
    "classifier = KNeighborsClassifier(n_neighbors = 3, metric = 'minkowski', p = 2)\n",
    "classifier.fit(X_train, y_train)"
   ]
  },
  {
   "cell_type": "code",
   "execution_count": 94,
   "id": "d45e4bd8",
   "metadata": {},
   "outputs": [],
   "source": [
    "# Predicting the Test set results\n",
    "y_pred4 = classifier.predict(X_test)"
   ]
  },
  {
   "cell_type": "code",
   "execution_count": 95,
   "id": "881c54c9",
   "metadata": {},
   "outputs": [
    {
     "data": {
      "text/plain": [
       "array([1, 2, 1, 0, 1, 2, 2, 1, 2, 1, 1, 1, 0, 1, 1, 2, 1, 2, 1, 1, 2, 1,\n",
       "       1, 1, 1, 1, 1, 1, 1, 1, 2, 2, 1, 2, 1, 2, 1, 1, 2, 1, 2, 2, 1, 2,\n",
       "       0, 1, 1, 0, 2, 2, 2, 0, 1, 2, 2, 1, 1, 1, 1, 1, 1, 1, 2, 1, 2, 2,\n",
       "       2, 1, 1, 2, 1, 2, 1, 1, 1, 1, 2, 1, 1, 0, 2, 2, 0, 2, 1, 1, 1, 2,\n",
       "       2, 2, 1, 0, 2, 2, 1, 1, 2, 1, 2, 1, 1, 1, 1, 1, 1, 2, 1, 1, 1, 2,\n",
       "       1, 2, 1, 2, 1, 2, 2, 1, 2, 2, 2, 2, 2, 1, 0, 1, 1, 1, 2, 1, 1, 2,\n",
       "       0, 2, 1, 1, 1, 1, 1, 1, 2, 2, 2, 0, 2, 0, 1, 1, 2, 2, 2, 1, 1, 2,\n",
       "       0, 1, 1, 1, 1, 1, 1, 2, 1, 1, 0, 2, 1, 2, 2, 2, 1, 1, 1, 1, 0, 1,\n",
       "       1, 1, 2, 2, 0, 1, 2, 1, 2, 1, 2, 2, 1, 2, 1, 2, 0, 1, 2, 1, 1, 2,\n",
       "       2, 2, 0, 1, 1, 2, 1, 1, 1, 1, 2, 0, 1, 1, 1, 1, 1, 1, 0, 2, 1, 2])"
      ]
     },
     "execution_count": 95,
     "metadata": {},
     "output_type": "execute_result"
    }
   ],
   "source": [
    "y_pred4"
   ]
  },
  {
   "cell_type": "code",
   "execution_count": 96,
   "id": "f8b1d11f",
   "metadata": {},
   "outputs": [
    {
     "name": "stdout",
     "output_type": "stream",
     "text": [
      "Accuracy: 0.9818181818181818\n"
     ]
    }
   ],
   "source": [
    "from sklearn.metrics import  accuracy_score\n",
    "print(\"Accuracy:\", accuracy_score(y_test, y_pred4))"
   ]
  },
  {
   "cell_type": "code",
   "execution_count": null,
   "id": "7dc2c504",
   "metadata": {},
   "outputs": [],
   "source": []
  }
 ],
 "metadata": {
  "kernelspec": {
   "display_name": "Python 3",
   "language": "python",
   "name": "python3"
  },
  "language_info": {
   "codemirror_mode": {
    "name": "ipython",
    "version": 3
   },
   "file_extension": ".py",
   "mimetype": "text/x-python",
   "name": "python",
   "nbconvert_exporter": "python",
   "pygments_lexer": "ipython3",
   "version": "3.6.13"
  }
 },
 "nbformat": 4,
 "nbformat_minor": 5
}
